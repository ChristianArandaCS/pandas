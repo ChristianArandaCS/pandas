{
 "cells": [
  {
   "cell_type": "code",
   "execution_count": null,
   "id": "160f4dd5-f13c-4dc5-b216-73842dd4d479",
   "metadata": {},
   "outputs": [],
   "source": [
    "import os\n",
    "import pandas as pd\n",
    "\n",
    "orders_files = []\n",
    "df_orders_export = pd.DataFrame()\n",
    "\n",
    "path = 'returns_\\\\'\n",
    "\n",
    "for root, directories, files in os.walk(path, topdown=True):\n",
    "    for file_name in files:\n",
    "        if file_name.endswith(\".xlsx\"):\n",
    "            if root.endswith(\"ab\"):\n",
    "                continue\n",
    "            else:\n",
    "                orders_files.append(pd.read_csv(os.path.join(root,file_name), encoding= 'unicode_escape'))\n",
    "\n",
    "for order_file in orders_files:\n",
    "\n",
    "    df_orders_export = df_orders_export.append(order_file, ignore_index=True\n",
    "    )"
   ]
  }
 ],
 "metadata": {
  "kernelspec": {
   "display_name": "Python 3 (ipykernel)",
   "language": "python",
   "name": "python3"
  },
  "language_info": {
   "codemirror_mode": {
    "name": "ipython",
    "version": 3
   },
   "file_extension": ".py",
   "mimetype": "text/x-python",
   "name": "python",
   "nbconvert_exporter": "python",
   "pygments_lexer": "ipython3",
   "version": "3.7.2"
  }
 },
 "nbformat": 4,
 "nbformat_minor": 5
}
