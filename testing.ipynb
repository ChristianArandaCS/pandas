{
 "cells": [
  {
   "cell_type": "code",
   "execution_count": 15,
   "id": "6e6af1f5-27cd-4934-814f-834bb0e2b08c",
   "metadata": {},
   "outputs": [],
   "source": [
    "# import glob\n",
    "# import pandas as pd\n",
    "# import os\n",
    "\n",
    "# pattern  = \"returns_\\**\\*.tsv\"\n",
    "# returns_files = []\n",
    "# merged_file = pd.DataFrame()\n",
    "\n",
    "# for fname in glob.glob(pattern, recursive=True):\n",
    "#     if os.path.isfile(fname):\n",
    "#         returns_files.append(pd.read_csv(fname, sep=\"\\t\",encoding= 'unicode_escape'))\n",
    "\n",
    "# for return_file in returns_files:\n",
    "\n",
    "#     merged_file = merged_file.append(return_file, ignore_index=True\n",
    "#     )\n",
    "\n",
    "# merged_file.to_excel('returns_report_final.xlsx',index=False)\n",
    "\n",
    "import os\n",
    "import pandas as pd\n",
    "\n",
    "returns_files = []\n",
    "merged_file = pd.DataFrame()\n",
    "\n",
    "path = 'returns_\\\\'\n",
    "\n",
    "for root, directories, files in os.walk(path, topdown=True):\n",
    "    for file_name in files:\n",
    "        if file_name.endswith(\".tsv\"):\n",
    "            if root.endswith(\"ab\"):\n",
    "                continue\n",
    "            else:\n",
    "                returns_files.append(pd.read_csv(os.path.join(root,file_name), sep=\"\\t\",encoding= 'unicode_escape'))\n",
    "\n",
    "for return_file in returns_files:\n",
    "\n",
    "    merged_file = merged_file.append(return_file, ignore_index=True\n",
    "    )\n",
    "\n",
    "merged_file.to_excel('returns_report_final.xlsx',index=False)"
   ]
  }
 ],
 "metadata": {
  "kernelspec": {
   "display_name": "Python 3 (ipykernel)",
   "language": "python",
   "name": "python3"
  },
  "language_info": {
   "codemirror_mode": {
    "name": "ipython",
    "version": 3
   },
   "file_extension": ".py",
   "mimetype": "text/x-python",
   "name": "python",
   "nbconvert_exporter": "python",
   "pygments_lexer": "ipython3",
   "version": "3.7.2"
  }
 },
 "nbformat": 4,
 "nbformat_minor": 5
}
