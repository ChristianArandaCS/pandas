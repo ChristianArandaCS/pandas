{
 "cells": [
  {
   "cell_type": "code",
   "execution_count": 7,
   "id": "6e6af1f5-27cd-4934-814f-834bb0e2b08c",
   "metadata": {},
   "outputs": [],
   "source": [
    "import glob\n",
    "import pandas as pd\n",
    "\n",
    "path = \"D:\\projects\\pandas\\\\returns_\"\n",
    "\n",
    "file_list = glob.glob(path + \"\\*.tsv\")\n",
    "\n",
    "returns_files = []\n",
    "\n",
    "for file in file_list:\n",
    "    returns_files.append(pd.read_csv(file, sep=\"\\t\",encoding= 'unicode_escape'))\n",
    "\n",
    "merged_file = pd.DataFrame()\n",
    "\n",
    "for return_file in returns_files:\n",
    "\n",
    "    merged_file = merged_file.append(return_file, ignore_index=True\n",
    "    )\n",
    "\n",
    "merged_file.to_excel('returns_report_final.xlsx',index=False)"
   ]
  }
 ],
 "metadata": {
  "kernelspec": {
   "display_name": "Python 3 (ipykernel)",
   "language": "python",
   "name": "python3"
  },
  "language_info": {
   "codemirror_mode": {
    "name": "ipython",
    "version": 3
   },
   "file_extension": ".py",
   "mimetype": "text/x-python",
   "name": "python",
   "nbconvert_exporter": "python",
   "pygments_lexer": "ipython3",
   "version": "3.7.2"
  }
 },
 "nbformat": 4,
 "nbformat_minor": 5
}
