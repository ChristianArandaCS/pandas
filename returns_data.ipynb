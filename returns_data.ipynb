{
 "cells": [
  {
   "cell_type": "code",
   "execution_count": 49,
   "id": "84e5049c-c68d-4d46-8a4d-d905cbdaf693",
   "metadata": {},
   "outputs": [],
   "source": [
    "import pandas as pd\n",
    "from functools import reduce\n",
    "\n",
    "df_order_report = pd.read_csv('returns_\\ca_export.csv')\n",
    "df_item_export = pd.read_excel('returns_\\items_export.xlsx')\n",
    "\n",
    "#original format\n",
    "# df_returns_export = pd.read_csv('returns_\\\\report-1714490019067.tsv', sep=\"\\t\",encoding= 'unicode_escape')\n",
    "df_returns_export = pd.read_csv('returns_\\\\amz_export.csv',encoding= 'unicode_escape')\n",
    "\n",
    "df_order_report = df_order_report.rename(columns={\"Site Order ID\": \"Order ID\"})\n",
    "df_item_export = df_item_export.rename(columns={\"Inventory Number\": \"SKU\"})\n"
   ]
  },
  {
   "cell_type": "code",
   "execution_count": null,
   "id": "8c126a97",
   "metadata": {},
   "outputs": [],
   "source": [
    "inner_join = pd.merge(\n",
    "    df_returns_export,\n",
    "    df_order_report,\n",
    "    on='Order ID',\n",
    "    how='inner'\n",
    ")\n",
    "\n",
    "final_report = pd.merge(\n",
    "    inner_join,\n",
    "    df_item_export,\n",
    "    on='SKU',\n",
    "    how='inner'\n",
    ")\n",
    "\n",
    "# final_report\n",
    "# final_report.groupby('Tracking ID')['tempx'].apply(' '.join).reset_index()\n",
    "\n",
    "final_report.to_csv(r\"C:\\Users\\sebas\\Desktop\\projects\\pandas\\results.csv\", index=False, encoding='utf-8')"
   ]
  }
 ],
 "metadata": {
  "kernelspec": {
   "display_name": "Python 3 (ipykernel)",
   "language": "python",
   "name": "python3"
  },
  "language_info": {
   "codemirror_mode": {
    "name": "ipython",
    "version": 3
   },
   "file_extension": ".py",
   "mimetype": "text/x-python",
   "name": "python",
   "nbconvert_exporter": "python",
   "pygments_lexer": "ipython3",
   "version": "3.7.2"
  }
 },
 "nbformat": 4,
 "nbformat_minor": 5
}
