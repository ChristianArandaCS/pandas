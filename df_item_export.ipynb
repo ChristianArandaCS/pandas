{
 "cells": [
  {
   "cell_type": "code",
   "execution_count": null,
   "metadata": {},
   "outputs": [],
   "source": [
    "import os\n",
    "import pandas as pd\n",
    "\n",
    "items_files = []\n",
    "df_items_export = pd.DataFrame()\n",
    "\n",
    "path = 'returns_\\\\'\n",
    "\n",
    "for root, directories, files in os.walk(path, topdown=True):\n",
    "    for file_name in files:\n",
    "        if file_name.endswith(\".csv\"):\n",
    "            if root.endswith(\"ab\"):\n",
    "                continue\n",
    "            else:\n",
    "                items_files.append(pd.read_csv(os.path.join(root,file_name), encoding= 'unicode_escape'))\n",
    "\n",
    "for item_file in items_files:\n",
    "\n",
    "    df_items_export = df_items_export.append(item_file, ignore_index=True\n",
    "    )"
   ]
  }
 ],
 "metadata": {
  "language_info": {
   "name": "python"
  }
 },
 "nbformat": 4,
 "nbformat_minor": 5
}
