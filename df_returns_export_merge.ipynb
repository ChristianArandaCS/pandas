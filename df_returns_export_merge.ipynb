{
 "cells": [
  {
   "cell_type": "code",
   "execution_count": 15,
   "id": "6e6af1f5-27cd-4934-814f-834bb0e2b08c",
   "metadata": {},
   "outputs": [],
   "source": [
    "import os\n",
    "import pandas as pd\n",
    "\n",
    "returns_files = []\n",
    "df_returns_export = pd.DataFrame()\n",
    "\n",
    "path = 'returns_\\\\'\n",
    "\n",
    "for root, directories, files in os.walk(path, topdown=True):\n",
    "    for file_name in files:\n",
    "        if file_name.endswith(\".tsv\"):\n",
    "            if root.endswith(\"ab\"):\n",
    "                continue\n",
    "            else:\n",
    "                returns_files.append(pd.read_csv(os.path.join(root,file_name), sep=\"\\t\",encoding= 'unicode_escape'))\n",
    "\n",
    "for return_file in returns_files:\n",
    "\n",
    "    df_returns_export = df_returns_export.append(return_file, ignore_index=True\n",
    "    )"
   ]
  }
 ],
 "metadata": {
  "kernelspec": {
   "display_name": "Python 3 (ipykernel)",
   "language": "python",
   "name": "python3"
  },
  "language_info": {
   "codemirror_mode": {
    "name": "ipython",
    "version": 3
   },
   "file_extension": ".py",
   "mimetype": "text/x-python",
   "name": "python",
   "nbconvert_exporter": "python",
   "pygments_lexer": "ipython3",
   "version": "3.7.2"
  }
 },
 "nbformat": 4,
 "nbformat_minor": 5
}
